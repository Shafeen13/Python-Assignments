{
 "cells": [
  {
   "cell_type": "code",
   "execution_count": 1,
   "id": "aba7aa38",
   "metadata": {},
   "outputs": [
    {
     "name": "stdout",
     "output_type": "stream",
     "text": [
      "Enter Basic Salary:35000\n",
      "Dearness Allowance: 14000.0\n",
      "House Rent Allowance: 7000.0\n",
      "Gross Salary: 56000.0\n"
     ]
    }
   ],
   "source": [
    "#1) calculating Gross salary\\n\",\n",
    "basic_salary=int(input(\"Enter Basic Salary:\"))\n",
    "DA=(40/100)*basic_salary\n",
    "HRA=(20/100)*basic_salary\n",
    "gross_Salary=basic_salary+DA+HRA\n",
    "print(\"Dearness Allowance:\",DA)\n",
    "print(\"House Rent Allowance:\",HRA)\n",
    "print(\"Gross Salary:\",gross_Salary)\n"
   ]
  },
  {
   "cell_type": "code",
   "execution_count": 2,
   "id": "7c5458eb",
   "metadata": {},
   "outputs": [
    {
     "name": "stdout",
     "output_type": "stream",
     "text": [
      "7\n",
      "Distance Between two cities\n",
      "7 kilometers\n",
      "7000 meters\n",
      "22967 feet\n",
      "275590 inches\n",
      "700000 centimeters\n"
     ]
    }
   ],
   "source": [
    "# 2) program to convert and print this distance in meters, feet, inches and centimeters.\n",
    "n=int(input())\n",
    "print(\"Distance Between two cities\")\n",
    "print(n,\"kilometers\")\n",
    "m=1000*n     # converting to meters\n",
    "f=3281*n     #converrting to feet\n",
    "i=39370 *n   #converting to inches\n",
    "cm=100000*n  #converting to centimeters\n",
    "print(m,\"meters\")\n",
    "print(f,\"feet\")\n",
    "print(i,\"inches\")\n",
    "print(cm,\"centimeters\")\n"
   ]
  },
  {
   "cell_type": "code",
   "execution_count": 3,
   "id": "d8a9e1b1",
   "metadata": {},
   "outputs": [
    {
     "name": "stdout",
     "output_type": "stream",
     "text": [
      "English Marks:56\n",
      "Hindi Marks:76\n",
      "Maths Marks:48\n",
      "Science Marks:78\n",
      "Social Marks:69\n",
      "Total Marks= 327\n",
      "Percentage= 65.4 %\n"
     ]
    }
   ],
   "source": [
    "# 3) marks and percentage marks obtained by the student\n",
    "s1=int(input(\"English Marks:\"))\n",
    "s2=int(input(\"Hindi Marks:\"))\n",
    "s3=int(input(\"Maths Marks:\"))\n",
    "s4=int(input(\"Science Marks:\"))\n",
    "s5=int(input(\"Social Marks:\"))\n",
    "t=s1+s2+s3+s4+s5            # total marks of 5 subjects\n",
    "print(\"Total Marks=\",t)\n",
    "p=(t/500)*100               # percentage\n",
    "print(\"Percentage=\",p,\"%\")\n"
   ]
  },
  {
   "cell_type": "code",
   "execution_count": 5,
   "id": "1aa13a65",
   "metadata": {},
   "outputs": [
    {
     "name": "stdout",
     "output_type": "stream",
     "text": [
      "Fahrenheit=67\n",
      "19.444444444444446 Celsius\n"
     ]
    }
   ],
   "source": [
    "# 4) program to convert fahrenheit into Centigrade degrees.\n",
    "F=int(input(\"Fahrenheit=\"))\n",
    "C=((F-32)*(5/9))    # converting to Centigrade\n",
    "print(C,\"Celsius\")\n"
   ]
  },
  {
   "cell_type": "code",
   "execution_count": 6,
   "id": "133113aa",
   "metadata": {},
   "outputs": [
    {
     "name": "stdout",
     "output_type": "stream",
     "text": [
      "length of rectangle =5\n",
      "breadth of rectangle =6\n",
      "Area of rectangle :  30 sq.cm\n",
      "perimeter of rectangle : 22 cm \n",
      "\n",
      "Radius of a Circle =3\n",
      "Area of Circle :  28.259999999999998 sq.cm\n",
      "Circumference of Circle :  18.84 cm\n"
     ]
    }
   ],
   "source": [
    "# 5) program to calculate the area & perimeter of the rectangle, and the area & circumference of the circle.\n",
    "# Rectangle\n",
    "l=int(input(\"length of rectangle =\"))\n",
    "b=int(input(\"breadth of rectangle =\"))\n",
    "print(\"Area of rectangle : \",(l*b),\"sq.cm\")\n",
    "print(\"perimeter of rectangle :\",(2*(l+b)),\"cm\",\"\\n\")\n",
    "#Circle\n",
    "r=int(input(\"Radius of a Circle =\"))\n",
    "print(\"Area of Circle : \",(3.14*r*r),\"sq.cm\")\n",
    "print(\"Circumference of Circle : \",(2*3.14*r),\"cm\")\n"
   ]
  },
  {
   "cell_type": "code",
   "execution_count": 7,
   "id": "3d3d9f17",
   "metadata": {},
   "outputs": [
    {
     "name": "stdout",
     "output_type": "stream",
     "text": [
      "C=5\n",
      "D=4\n",
      "\n",
      "After Interchanging\n",
      "\n",
      "C= 4\n",
      "D= 5\n"
     ]
    }
   ],
   "source": [
    "# 6) program to interchange the contents of C and D.\n",
    "C=int(input(\"C=\"))\n",
    "D=int(input(\"D=\"))\n",
    "temp=\" \"  \n",
    "temp=C\n",
    "C=D\n",
    "D=temp\n",
    "print(\"\\nAfter Interchanging\\n\")\n",
    "print(\"C=\",C)\n",
    "print(\"D=\",D)\n"
   ]
  },
  {
   "cell_type": "code",
   "execution_count": 9,
   "id": "f092fbdf",
   "metadata": {},
   "outputs": [
    {
     "name": "stdout",
     "output_type": "stream",
     "text": [
      "12345\n",
      "Sum of the digits: 15\n"
     ]
    }
   ],
   "source": [
    "# 7) a five-digit number is input through the keyboard, write a program to calculate the sum of its digits.\n",
    "n=int(input())\n",
    "sum=0\n",
    "while n!=0:\n",
    "    digit=int(n%10)\n",
    "    sum+=digit\n",
    "    n=n/10\n",
    "print(\"Sum of the digits:\",sum)\n"
   ]
  },
  {
   "cell_type": "code",
   "execution_count": 10,
   "id": "04bc5f5b",
   "metadata": {},
   "outputs": [
    {
     "name": "stdout",
     "output_type": "stream",
     "text": [
      "Five digit number=12345\n",
      "reversed number 54321\n"
     ]
    }
   ],
   "source": [
    "# 8) If a five-digit number is input through the keyboard, write a program to reverse the number.\n",
    "n=int(input(\"Five digit number=\"))\n",
    "rev=0\n",
    "while n!=0:\n",
    "    d=n%10\n",
    "    rev=(rev*10)+d\n",
    "    n=n//10\n",
    "print(\"reversed number\",rev)\n"
   ]
  },
  {
   "cell_type": "code",
   "execution_count": 12,
   "id": "87c60c2b",
   "metadata": {},
   "outputs": [
    {
     "name": "stdout",
     "output_type": "stream",
     "text": [
      "enter the fout digit number=1234\n",
      "5\n"
     ]
    }
   ],
   "source": [
    "#  9) write a program to obtain the sum of the first and last digit of this number.\n",
    "n=int(input(\"enter the fout digit number=\"))\n",
    "sum=0\n",
    "a=n//1000\n",
    "sum+=a\n",
    "a=n%10\n",
    "sum+=a\n",
    "\n",
    "print(sum)\n"
   ]
  },
  {
   "cell_type": "code",
   "execution_count": 13,
   "id": "8c4265a7",
   "metadata": {},
   "outputs": [
    {
     "name": "stdout",
     "output_type": "stream",
     "text": [
      "Population in Town =80000\n",
      "Men's Population 41600.0\n",
      "Women's Population 38400.0\n",
      "\n",
      " Literate Population\n",
      "Total literate People 38400.0\n",
      "No. of Literate Men 14559.999999999998\n",
      "No. of Literate Women 23840.0\n",
      "\n",
      " Illiterate population:\n",
      "No. of Illiterate Men 27040.0\n",
      "No. of Illiterate Women 14560.0\n"
     ]
    }
   ],
   "source": [
    "# 10) program to find the total number of illiterate men and women if the population of the town is 80,000.\n",
    "population=int(input(\"Population in Town =\"))\n",
    "popu_men=(52/100)*population\n",
    "print(\"Men's Population\",popu_men)\n",
    "popu_women=population - popu_men\n",
    "print(\"Women's Population\",popu_women)\n",
    "print(\"\\n Literate Population\")\n",
    "#literate\n",
    "tot_lit=(48/100)*population\n",
    "lit_men=(35/100)*popu_men\n",
    "lit_women=tot_lit - lit_men\n",
    "print(\"Total literate People\",tot_lit)\n",
    "print(\"No. of Literate Men\",lit_men)\n",
    "print(\"No. of Literate Women\",lit_women)\n",
    "print(\"\\n Illiterate population:\")\n",
    "#illiterate\n",
    "ill_men=popu_men - lit_men\n",
    "ill_women=popu_women - lit_women\n",
    "print(\"No. of Illiterate Men\",ill_men)\n",
    "print(\"No. of Illiterate Women\",ill_women)"
   ]
  },
  {
   "cell_type": "code",
   "execution_count": 14,
   "id": "4f9d5e03",
   "metadata": {},
   "outputs": [
    {
     "name": "stdout",
     "output_type": "stream",
     "text": [
      "Amount=6570\n",
      "No.of Hundred's Note= 65\n",
      "No. of Fifty's Note= 1\n",
      "NO.of ten's Note= 2\n"
     ]
    }
   ],
   "source": [
    "# 11) find the total number of currency notes of each denomination the cashier will have to give to the withdrawer.\n",
    "amount=int(input(\"Amount=\"))\n",
    "hundreds=amount//100\n",
    "amount=amount%100\n",
    "fifty=amount//50\n",
    "amount=amount%50\n",
    "tens=amount//10\n",
    "amount=amount%10\n",
    "print(\"No.of Hundred's Note=\",hundreds)\n",
    "print(\"No. of Fifty's Note=\",fifty)\n",
    "print(\"NO.of ten's Note=\",tens)\n"
   ]
  },
  {
   "cell_type": "code",
   "execution_count": 15,
   "id": "985392b8",
   "metadata": {},
   "outputs": [
    {
     "name": "stdout",
     "output_type": "stream",
     "text": [
      "No.of items=15\n",
      "Selling Price=7600\n",
      "Profit=2500\n",
      "Cost Price Of 15 Items= 5100\n",
      "COst Price of 1 item 340.0\n"
     ]
    }
   ],
   "source": [
    "# 12) If the total selling price of 15 items and the total profit earned on them is input through the keyboard, write a program to find the cost price of one item.\n",
    "n=int(input(\"No.of items=\"))\n",
    "SP=int(input(\"Selling Price=\"))\n",
    "Profit=int(input(\"Profit=\"))\n",
    "CP=SP-Profit\n",
    "print(\"Cost Price Of\",n,\"Items=\",CP)\n",
    "print(\"COst Price of 1 item\",CP/n)  # cost price of one item\n",
    "  \n"
   ]
  },
  {
   "cell_type": "code",
   "execution_count": 16,
   "id": "e068698c",
   "metadata": {},
   "outputs": [
    {
     "name": "stdout",
     "output_type": "stream",
     "text": [
      "Enter five digit number:56478\n",
      "67589\n"
     ]
    }
   ],
   "source": [
    "#  13) write a program to print a new number by adding one to each of its digits.\n",
    "n=int(input(\"Enter five digit number:\"))\n",
    "sum=0\n",
    "a=(n//10000)+1\n",
    "n=n%10000\n",
    "sum=sum+a\n",
    "    \n",
    "a=(n//1000)+1\n",
    "n=n%1000\n",
    "sum=(sum*10)+a\n",
    "\n",
    "a=(n//100)+1\n",
    "n=n%100\n",
    "sum=(sum*10)+a\n",
    "    \n",
    "a=(n//10)+1\n",
    "n=n%10\n",
    "sum=(sum*10)+a\n",
    "    \n",
    "a=n+1\n",
    "sum=(sum*10)+a\n",
    "print(sum)\n"
   ]
  },
  {
   "cell_type": "code",
   "execution_count": null,
   "id": "b78c685b",
   "metadata": {},
   "outputs": [],
   "source": []
  }
 ],
 "metadata": {
  "kernelspec": {
   "display_name": "Python 3 (ipykernel)",
   "language": "python",
   "name": "python3"
  },
  "language_info": {
   "codemirror_mode": {
    "name": "ipython",
    "version": 3
   },
   "file_extension": ".py",
   "mimetype": "text/x-python",
   "name": "python",
   "nbconvert_exporter": "python",
   "pygments_lexer": "ipython3",
   "version": "3.11.5"
  }
 },
 "nbformat": 4,
 "nbformat_minor": 5
}
