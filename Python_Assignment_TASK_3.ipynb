{
 "cells": [
  {
   "cell_type": "code",
   "execution_count": 6,
   "id": "cd7b364e",
   "metadata": {},
   "outputs": [
    {
     "name": "stdout",
     "output_type": "stream",
     "text": [
      "Enter number :13\n",
      "1\n",
      "13\n"
     ]
    }
   ],
   "source": [
    "# 1) program to find the factor of a given number\n",
    "x=int(input(\"Enter number :\"))\n",
    "for i in range(1,x+1):\n",
    "    if x%i==0:\n",
    "        print(i)"
   ]
  },
  {
   "cell_type": "code",
   "execution_count": 14,
   "id": "e7c5d136",
   "metadata": {},
   "outputs": [
    {
     "name": "stdout",
     "output_type": "stream",
     "text": [
      "Enter number:12\n",
      "Not a prime\n"
     ]
    }
   ],
   "source": [
    "# 2) program to find a given number is prime or not.\n",
    "n=int(input(\"Enter number:\"))\n",
    "if n==1:\n",
    "    print(\"Not a prime\")\n",
    "elif n>1:\n",
    "    for i in range(2,n):\n",
    "        if n%i==0:\n",
    "            print(\"Not a prime\")\n",
    "            break\n",
    "        else:\n",
    "            print (\"Prime\")"
   ]
  },
  {
   "cell_type": "code",
   "execution_count": 5,
   "id": "ecba9096",
   "metadata": {},
   "outputs": [
    {
     "name": "stdout",
     "output_type": "stream",
     "text": [
      "153\n",
      "27\n",
      "152\n",
      "153\n",
      "not an amstrong\n"
     ]
    }
   ],
   "source": [
    "# 3) program to find the given number is Armstrong number or not.\n",
    "n=int(input())\n",
    "sum=0\n",
    "while(n>0):\n",
    "        rem=n%10\n",
    "        sum=sum+(rem*rem*rem)\n",
    "        n=n//10\n",
    "        print(sum)\n",
    "if(sum==n):\n",
    "    print(n,\"is a Armstrong Number\")\n",
    "else:\n",
    "    print(\"not an amstrong\")"
   ]
  },
  {
   "cell_type": "code",
   "execution_count": 7,
   "id": "77aede9d",
   "metadata": {},
   "outputs": [
    {
     "name": "stdout",
     "output_type": "stream",
     "text": [
      "153 is a Armstrong Number\n",
      "370 is a Armstrong Number\n",
      "371 is a Armstrong Number\n",
      "407 is a Armstrong Number\n"
     ]
    }
   ],
   "source": [
    "# 4) program to print the Armstrong numbers between 100 to 999\n",
    "for i in range(100,999):\n",
    "    a=i\n",
    "    sum=0\n",
    "    while(i>0):\n",
    "        rem=i%10\n",
    "        sum=sum+(rem*rem*rem)\n",
    "        i=i//10\n",
    "    if(sum==a):\n",
    "        print(a,\"is a Armstrong Number\")"
   ]
  },
  {
   "cell_type": "code",
   "execution_count": 16,
   "id": "0d22e861",
   "metadata": {},
   "outputs": [
    {
     "name": "stdout",
     "output_type": "stream",
     "text": [
      "Enter the no.of digits:5\n",
      "Enter the values:2\n",
      "Enter the values:5\n",
      "Enter the values:6\n",
      "Enter the values:8\n",
      "Enter the values:5\n",
      "Even Numbers= 3\n",
      "Odd Numbers= 2\n"
     ]
    }
   ],
   "source": [
    "# 5) program to count and print the number of odd and even numbers.\n",
    "l=int(input(\"Enter the no.of digits:\"))\n",
    "e=[]      # even \n",
    "o=[]      # odd\n",
    "for i in range(l):\n",
    "    n=int(input(\"Enter the values:\"))\n",
    "    if(n%2==0):\n",
    "        e.append(n)\n",
    "    else:\n",
    "        o.append(n)\n",
    "print(\"Even Numbers=\",len(e))\n",
    "print(\"Odd Numbers=\",len(o))\n"
   ]
  },
  {
   "cell_type": "code",
   "execution_count": 17,
   "id": "bd17b2b6",
   "metadata": {},
   "outputs": [
    {
     "name": "stdout",
     "output_type": "stream",
     "text": [
      "Enter number=1567\n",
      "reversed number 7651\n"
     ]
    }
   ],
   "source": [
    "# 6) program to find the reverse of n digit number using While loop\n",
    "n=int(input(\"Enter number=\"))\n",
    "rev=0\n",
    "while n!=0:\n",
    "    d=n%10\n",
    "    rev=(rev*10)+d\n",
    "    n=n//10\n",
    "print(\"reversed number\",rev)"
   ]
  },
  {
   "cell_type": "code",
   "execution_count": 13,
   "id": "7cbe24f2",
   "metadata": {},
   "outputs": [
    {
     "name": "stdout",
     "output_type": "stream",
     "text": [
      "Enter a number: 21\n",
      "10101"
     ]
    }
   ],
   "source": [
    "# 7) program to find the binary number from given decimal number\n",
    "n=int(input(\"Enter a number: \"))\n",
    "binary=[]\n",
    "while n>0:\n",
    "    binary.append(n%2)\n",
    "    n=n//2\n",
    "for i in binary:\n",
    "    print(i,end=\"\")"
   ]
  },
  {
   "cell_type": "code",
   "execution_count": 22,
   "id": "da20925a",
   "metadata": {},
   "outputs": [
    {
     "name": "stdout",
     "output_type": "stream",
     "text": [
      "Binary Value: 110\n",
      "decimal_value 6\n"
     ]
    }
   ],
   "source": [
    "# 8) program to find the decimal number from given Binary number.\n",
    "b=int(input(\"Binary Value: \"))\n",
    "decimal_val=0\n",
    "base=1\n",
    "while b>0:\n",
    "    rem=b%10\n",
    "    decimal_val=decimal_val+rem*base\n",
    "    b=b//10\n",
    "    base=base*2\n",
    "print(\"decimal_value\",decimal_val)"
   ]
  },
  {
   "cell_type": "code",
   "execution_count": 31,
   "id": "75ce81ad",
   "metadata": {},
   "outputs": [
    {
     "name": "stdout",
     "output_type": "stream",
     "text": [
      "Enter Number:5\n",
      "The Factorial of the 5 is 120\n"
     ]
    }
   ],
   "source": [
    "# 9) program to find the factorial of the given number.\n",
    "n=int(input(\"Enter Number:\"))\n",
    "fact=1\n",
    "if n<0:\n",
    "    print(\"Factorial doesn't exists\")\n",
    "elif n==0:\n",
    "    print(\"Factorial of Zero(0) is :\",fact)\n",
    "else:\n",
    "    for i in range(1,n+1):\n",
    "        fact=fact*i\n",
    "    print(\"The Factorial of the\",n,\"is\",fact)\n",
    "        "
   ]
  },
  {
   "cell_type": "code",
   "execution_count": 34,
   "id": "975d0e24",
   "metadata": {},
   "outputs": [
    {
     "name": "stdout",
     "output_type": "stream",
     "text": [
      "Enter the limit:5\n",
      "Fibinacci Series 0 1 1 2 3 \n"
     ]
    }
   ],
   "source": [
    "# 10) program to find the Fibonacci Series of the given number\n",
    "n=int(input(\"Enter the limit:\"))\n",
    "n1,n2=0,1\n",
    "print(\"Fibinacci Series\",n1,n2,end=\" \")\n",
    "for i in range(2,n):\n",
    "    n3=n1+n2\n",
    "    n1=n2\n",
    "    n2=n3\n",
    "    print(n3,end=\" \")\n",
    "print()\n"
   ]
  },
  {
   "cell_type": "code",
   "execution_count": 38,
   "id": "3b695c12",
   "metadata": {},
   "outputs": [
    {
     "name": "stdout",
     "output_type": "stream",
     "text": [
      "Enterr number:28\n",
      "The number is Perfect Number\n"
     ]
    }
   ],
   "source": [
    "# 11) program to find the given number is perfect number\n",
    "n=int(input(\"Enterr number:\"))\n",
    "sum=0\n",
    "for i in range(1,n):\n",
    "    if n%i ==0:\n",
    "        sum=sum+i\n",
    "if sum==n:\n",
    "    print(\"The number is Perfect Number\")\n",
    "else:\n",
    "    print(\"The number is Not Perfect\")"
   ]
  },
  {
   "cell_type": "code",
   "execution_count": 40,
   "id": "de8f218c",
   "metadata": {},
   "outputs": [
    {
     "name": "stdout",
     "output_type": "stream",
     "text": [
      "1 2 4 5 8 10 20 25 40 50 100 125 200 250 500 "
     ]
    }
   ],
   "source": [
    "# 12) program to print the perfect number between 1-1000\n",
    "n=1000\n",
    "sum=0\n",
    "for i in range(1,n):\n",
    "    if n%i ==0:\n",
    "        print(i,end=\" \")"
   ]
  },
  {
   "cell_type": "code",
   "execution_count": null,
   "id": "053c919b",
   "metadata": {},
   "outputs": [],
   "source": [
    "# 13) program to find the given number is strong number\n"
   ]
  },
  {
   "cell_type": "code",
   "execution_count": 43,
   "id": "8afd1f4c",
   "metadata": {},
   "outputs": [
    {
     "name": "stdout",
     "output_type": "stream",
     "text": [
      "Enter a number:5\n",
      "Enter a value:2\n",
      "2 power of 5 is 25\n"
     ]
    }
   ],
   "source": [
    "# 14) a program to find the value of one number raised to the power of another.\n",
    "n1=int(input(\"Enter a number:\"))\n",
    "n2=int(input(\"Enter a value:\"))\n",
    "value=n1**n2\n",
    "print(n2,\"power of\",n1,\"is\",value)"
   ]
  },
  {
   "cell_type": "code",
   "execution_count": null,
   "id": "f3f7aae0",
   "metadata": {},
   "outputs": [],
   "source": []
  }
 ],
 "metadata": {
  "kernelspec": {
   "display_name": "Python 3 (ipykernel)",
   "language": "python",
   "name": "python3"
  },
  "language_info": {
   "codemirror_mode": {
    "name": "ipython",
    "version": 3
   },
   "file_extension": ".py",
   "mimetype": "text/x-python",
   "name": "python",
   "nbconvert_exporter": "python",
   "pygments_lexer": "ipython3",
   "version": "3.11.5"
  }
 },
 "nbformat": 4,
 "nbformat_minor": 5
}
