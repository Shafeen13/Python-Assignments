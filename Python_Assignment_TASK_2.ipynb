{
 "cells": [
  {
   "cell_type": "code",
   "execution_count": 1,
   "id": "f639f1a4",
   "metadata": {},
   "outputs": [
    {
     "name": "stdout",
     "output_type": "stream",
     "text": [
      "Enter Quantity:12\n",
      "Price of each item:23\n",
      "Total Price= 276\n",
      "After 10% Discount on more than 10 items\n",
      " Total expenses= 248.4\n"
     ]
    }
   ],
   "source": [
    "# 1) a discount of 10% is offered if the quantity purchased is more than 10. If quantity and price per item are input through the keyboard, write a program to calculate the total expenses.\n",
    "q=int(input(\"Enter Quantity:\"))\n",
    "p=int(input(\"Price of each item:\"))\n",
    "if q>10:\n",
    "    tot_price=q*p\n",
    "    tot_expenses= tot_price - (0.1*tot_price)\n",
    "    print(\"Total Price=\",tot_price)\n",
    "    print(\"After 10% Discount on more than 10 items\\n Total expenses=\",tot_expenses)\n",
    "else:\n",
    "    tot_exp=q*p\n",
    "    print(\"Total expenses=\",tot_exp)\n"
   ]
  },
  {
   "cell_type": "code",
   "execution_count": 2,
   "id": "5905d98e",
   "metadata": {},
   "outputs": [
    {
     "name": "stdout",
     "output_type": "stream",
     "text": [
      "Current year=2024\n",
      "Employee Joined Year=2020\n",
      "Duration Of Employee upto this year is 4 years\n",
      "Bonus Amount=Rs. 2500\n"
     ]
    }
   ],
   "source": [
    "# 2) bonus given to those employees who has joined before 3 years from now.\n",
    "curr_year=int(input(\"Current year=\"))\n",
    "join_year=int(input(\"Employee Joined Year=\"))\n",
    "n=curr_year - join_year\n",
    "print(\"Duration Of Employee upto this year is\",n,\"years\")\n",
    "if n>3:\n",
    "    bonus=2500\n",
    "    print(\"Bonus Amount=Rs.\",bonus)\n",
    "else:\n",
    "    print(\"Not eligible for bonus\")"
   ]
  },
  {
   "cell_type": "code",
   "execution_count": 3,
   "id": "884b56fc",
   "metadata": {},
   "outputs": [
    {
     "name": "stdout",
     "output_type": "stream",
     "text": [
      "Basic Salary:Rs.1600\n",
      "HRA=Rs. 500\n",
      "DA=Rs. 1568.0\n",
      "Gross Salary=Rs. 3668.0\n"
     ]
    }
   ],
   "source": [
    "# 3) If his salary is either equal to or above Rs. 1500, then HRA = Rs. 500 and DA = 98% of basic salary.\n",
    "basic_salary=int(input(\"Basic Salary:Rs.\"))\n",
    "if basic_salary>=1500:\n",
    "    HRA=500\n",
    "    DA=(98/100)*basic_salary\n",
    "    print(\"HRA=Rs.\",HRA)\n",
    "    print(\"DA=Rs.\",DA)\n",
    "    print(\"Gross Salary=Rs.\",basic_salary+HRA+DA)\n",
    "else:\n",
    "    HRA=(10/100)*basic_salary\n",
    "    DA=(90/100)*basic_salary\n",
    "    print(\"HRA=Rs.\",HRA)\n",
    "    print(\"DA=Rs.\",DA)\n",
    "    print(\"Gross Salary=Rs.\",basic_salary+HRA+DA)\n"
   ]
  },
  {
   "cell_type": "code",
   "execution_count": 4,
   "id": "e58d7550",
   "metadata": {},
   "outputs": [
    {
     "name": "stdout",
     "output_type": "stream",
     "text": [
      "Englih Marks56\n",
      "Hindi Marks:76\n",
      "Maths Marks:47\n",
      "Science Marks:86\n",
      "Social Marks:54\n",
      "Percentage= 63.800000000000004 %\n",
      "**First Division**\n"
     ]
    }
   ],
   "source": [
    "# 4) s1=int(input(\\\"English Marks:\\\"))\n",
    "s1=int(input(\"Englih Marks\"))\n",
    "s2=int(input(\"Hindi Marks:\"))\n",
    "s3=int(input(\"Maths Marks:\"))\n",
    "s4=int(input(\"Science Marks:\"))\n",
    "s5=int(input(\"Social Marks:\"))\n",
    "t=s1+s2+s3+s4+s5            # total marks of 5 subjects\n",
    "p=(t/500)*100               # percentage\n",
    "print(\"Percentage=\",p,\"%\")\n",
    "\n",
    "if p>=60:\n",
    "    print(\"**First Division**\")\n",
    "elif p>=50 and p<=59:\n",
    "    print(\"**Second Division**\")\n",
    "elif p>=40 and p<=49:\n",
    "    print(\"**Third Division**\")\n",
    "else:\n",
    "    print(\"--Fail--\")"
   ]
  },
  {
   "cell_type": "code",
   "execution_count": 5,
   "id": "751300f5",
   "metadata": {},
   "outputs": [
    {
     "name": "stdout",
     "output_type": "stream",
     "text": [
      "Age=26\n",
      "Gender(m/f)=f\n",
      "Marital Status(u/m)=u\n",
      "Driver is insured\n"
     ]
    }
   ],
   "source": [
    "# 5)A company insures its drivers based on some cases\n",
    "age=int(input(\"Age=\"))\n",
    "gender=input(\"Gender(m/f)=\")\n",
    "marital_status=input(\"Marital Status(u/m)=\")\n",
    "if (marital_status=='m'):\n",
    "    print(\"Driver is insured\")\n",
    "elif (marital_status=='u' and gender=='m' and age>30):\n",
    "    print(\"Driver is insured\")\n",
    "elif (marital_status=='u' and gender=='f' and age>25):\n",
    "    print(\"Driver is insured\")\n",
    "else:\n",
    "    print(\"Driver is not insured\")\n"
   ]
  },
  {
   "cell_type": "code",
   "execution_count": 18,
   "id": "5779e332",
   "metadata": {},
   "outputs": [
    {
     "name": "stdout",
     "output_type": "stream",
     "text": [
      "Gender(M/F)=F\n",
      "Year Of Service=13\n",
      "Qualification: Graduate\n",
      "Salary:Rs. 10000\n"
     ]
    }
   ],
   "source": [
    "##### 6) program to calculate the salary as per the year of servie and qualification\n",
    "Gender=input(\"Gender(M/F)=\")\n",
    "YOS=int(input(\"Year Of Service=\"))\n",
    "Qual=input(\"Qualification: \")\n",
    "if (Gender=='M' and YOS>=10 and Qual=='Post Graduate'):\n",
    "    salary=15000\n",
    "    print(\"salary:Rs.\",salary)\n",
    "elif (Gender=='M' and YOS>=10 and Qual=='Graduate'):\n",
    "    salary=10000\n",
    "    print(\"Salary:Rs.\",salary)\n",
    "elif (Gender=='M' and YOS<10 and Qual=='Post Graduate'):\n",
    "    salary=10000\n",
    "    print(\"Salary:Rs.\",salary)\n",
    "elif (Gender=='M' and YOS<10 and Qual=='Graduate'):\n",
    "    salary=7000\n",
    "    print(\"Salary:Rs.\",salary)\n",
    "elif (Gender=='F' and YOS>=10 and Qual=='Post Graduate'):\n",
    "    salary=12000\n",
    "    print(\"Salary:Rs.\",salary)\n",
    "elif (Gender=='F' and YOS>=10 and Qual=='Graduate'):\n",
    "    salary=10000\n",
    "    print(\"Salary:Rs.\",salary)\n",
    "elif (Gender=='F' and YOS<10 and Qual=='Post Graduate'):\n",
    "    salary=9000\n",
    "    print(\"Salary:Rs.\",salary)\n",
    "elif (Gender=='F' and YOS<10 and Qual=='Graduate'):\n",
    "    salary=6000\n",
    "    print(\"Salary:Rs.\",salary)"
   ]
  },
  {
   "cell_type": "code",
   "execution_count": 7,
   "id": "16de1ba2",
   "metadata": {},
   "outputs": [
    {
     "name": "stdout",
     "output_type": "stream",
     "text": [
      "Cost Price:Rs.7500\n",
      "Selling Price:Rs.12000\n",
      "Profit:Rs. 4500\n"
     ]
    }
   ],
   "source": [
    "# 7) program to determine whether the seller has made profit or incurred loss.\n",
    "CP=int(input(\"Cost Price:Rs.\"))\n",
    "SP=int(input(\"Selling Price:Rs.\"))\n",
    "if SP>CP:\n",
    "    profit=SP-CP\n",
    "    print(\"Profit:Rs.\",profit)\n",
    "elif SP<CP:\n",
    "    loss=CP-SP\n",
    "    print(\"Loss:Rs.\",loss)\n",
    "else:\n",
    "    print(\"No Profit, No Loss\")"
   ]
  },
  {
   "cell_type": "code",
   "execution_count": 8,
   "id": "08ac1297",
   "metadata": {},
   "outputs": [
    {
     "name": "stdout",
     "output_type": "stream",
     "text": [
      "Enter a number:64\n",
      "The number is even\n"
     ]
    }
   ],
   "source": [
    "# 8) program to find out whether it is an odd number or even number.\n",
    "n=int(input(\"Enter a number:\"))\n",
    "if n%2==0:\n",
    "    print(\"The number is even\")\n",
    "else:\n",
    "    print(\"The number is odd\")"
   ]
  },
  {
   "cell_type": "code",
   "execution_count": 9,
   "id": "0c30ccaf",
   "metadata": {},
   "outputs": [
    {
     "name": "stdout",
     "output_type": "stream",
     "text": [
      "Enter 5 digit number=12345\n",
      "reversed number 54321\n",
      "Original and Reverrsed number are Not Equal\n"
     ]
    }
   ],
   "source": [
    "# 9) a program to obtain the reversed number and to determine whether the original and reversed numbers are equal or not.\n",
    "n=int(input(\"Enter 5 digit number=\"))\n",
    "rev=0\n",
    "while n!=0:\n",
    "    d=n%10\n",
    "    rev=(rev*10)+d\n",
    "    n=n//10\n",
    "print(\"reversed number\",rev)\n",
    "\n",
    "if rev==n:\n",
    "    print(\"Original and Reversed number are Equal\")\n",
    "else:\n",
    "    print(\"Original and Reverrsed number are Not Equal\")"
   ]
  },
  {
   "cell_type": "code",
   "execution_count": 10,
   "id": "c612a1c9",
   "metadata": {},
   "outputs": [
    {
     "name": "stdout",
     "output_type": "stream",
     "text": [
      "Ram's Age=24\n",
      "Shyam's Age=35\n",
      "Ajya's Age=23\n",
      "Ajay is Younger\n"
     ]
    }
   ],
   "source": [
    "# 10) If the ages of Ram, Shyam and Ajay are input through the keyboard, write a program to determine the youngest of the three.\n",
    "Ram_age=int(input(\"Ram's Age=\"))\n",
    "Shyam_age=int(input(\"Shyam's Age=\"))\n",
    "Ajay_age=int(input(\"Ajya's Age=\"))\n",
    "if (Ram_age<Shyam_age and Ram_age<Ajay_age):\n",
    "    print(\"Ram is Younger\")\n",
    "elif (Shyam_age<Ram_age and Shyam_age<Ajay_age):\n",
    "    print(\"Shyam is Younger\")\n",
    "else:\n",
    "    print(\"Ajay is Younger\")"
   ]
  },
  {
   "cell_type": "code",
   "execution_count": 11,
   "id": "b6697a9f",
   "metadata": {},
   "outputs": [
    {
     "name": "stdout",
     "output_type": "stream",
     "text": [
      "First Angle=36\n",
      "Second Angle=64\n",
      "Third Angle=80\n",
      "Total angle 180\n",
      "**It is a Triangle**\n"
     ]
    }
   ],
   "source": [
    "# 11) Write a program to check whether a triangle is valid or not, when the three angles of the triangle are entered\n",
    "a1=int(input(\"First Angle=\"))\n",
    "a2=int(input(\"Second Angle=\"))\n",
    "a3=int(input(\"Third Angle=\"))\n",
    "tot_angle=a1+a2+a3\n",
    "print(\"Total angle\",tot_angle)\n",
    "if tot_angle==180:\n",
    "    print(\"**It is a Triangle**\")\n",
    "else:\n",
    "    print(\"**Not a triangle**\")\n",
    "\n"
   ]
  },
  {
   "cell_type": "code",
   "execution_count": 12,
   "id": "a5eb1451",
   "metadata": {},
   "outputs": [
    {
     "name": "stdout",
     "output_type": "stream",
     "text": [
      "Enter the number:-76\n",
      "Absolute Value Of n: 76\n"
     ]
    }
   ],
   "source": [
    "# 12) program to Find the absolute value of a number entered through the keyboard\\\n",
    "n=int(input(\"Enter the number:\"))\n",
    "absolute=abs(n)\n",
    "print(\"Absolute Value Of n:\",absolute)"
   ]
  },
  {
   "cell_type": "code",
   "execution_count": 13,
   "id": "537ca379",
   "metadata": {},
   "outputs": [
    {
     "name": "stdout",
     "output_type": "stream",
     "text": [
      "Enter the length:5\n",
      "Enter the breadth:4\n",
      "Area of rectangle: 20\n",
      "Perimeter of rectangle: 18\n",
      "---Area of rectangle is greater than its perimeter---\n"
     ]
    }
   ],
   "source": [
    "# 13) write a program to find whether the area of the rectangle is greater than its perimeter\n",
    "l=int(input(\"Enter the length:\"))\n",
    "b=int(input(\"Enter the breadth:\"))\n",
    "area=l*b\n",
    "perimeter=2*(l+b)\n",
    "print(\"Area of rectangle:\",area)\n",
    "print(\"Perimeter of rectangle:\",perimeter)\n",
    "if area>perimeter:\n",
    "    print(\"---Area of rectangle is greater than its perimeter---\")\n",
    "else:\n",
    "    print(\"---Area of rectangle is not greater than its perimeter---\")"
   ]
  },
  {
   "cell_type": "code",
   "execution_count": 14,
   "id": "5158a0a2",
   "metadata": {},
   "outputs": [
    {
     "name": "stdout",
     "output_type": "stream",
     "text": [
      "Enter the Year=2024\n",
      "--It is a Leap  Year--\n"
     ]
    }
   ],
   "source": [
    "# 14) program to determine whether the year is leap or not. Use the logical operators && and ||.\n",
    "year=int(input(\"Enter the Year=\"))\n",
    "if (year%4==0%400==0) or(year%100==0):\n",
    "    print(\"--It is a Leap  Year--\")\n",
    "else:\n",
    "    print(\"--Not a Leap Year--\")"
   ]
  },
  {
   "cell_type": "code",
   "execution_count": 15,
   "id": "413d76ab",
   "metadata": {},
   "outputs": [
    {
     "name": "stdout",
     "output_type": "stream",
     "text": [
      "Enter Hardness of steel:45\n",
      "Enter the Carbon Content:0.8\n",
      "Enter the Tensil Stength:6700\n",
      "Grade of Steel-6\n"
     ]
    }
   ],
   "source": [
    "# 15) program, which will require the user to give values of hardness, carbon content and tensile strength of the steel under consideration and output the grade of the steel.\n",
    "hardness=float(input(\"Enter Hardness of steel:\"))\n",
    "carbon_content=float(input(\"Enter the Carbon Content:\"))\n",
    "tensil_strength=float(input(\"Enter the Tensil Stength:\"))\n",
    "if (hardness>50 and carbon_content<0.7 and tensil_strength>5600):\n",
    "    print(\"Grade of Steel-10\")\n",
    "elif (hardness>50 and carbon_content<0.7 ):\n",
    "    print(\"Grade of Steel-9\")\n",
    "elif (carbon_content<0.7 and tensil_strength>5600):\n",
    "    print(\"Grade of Steel-8\")\n",
    "elif (hardness>50 and tensil_strength>5600):\n",
    "    print(\"Grade of Steel-7\")\n",
    "if (hardness>50 or carbon_content<0.7 or tensil_strength>5600):\n",
    "    print(\"Grade of Steel-6\")\n",
    "else:\n",
    "    print(\"Grade of Steel-5\")"
   ]
  },
  {
   "cell_type": "code",
   "execution_count": 16,
   "id": "fb1b4be5",
   "metadata": {},
   "outputs": [
    {
     "name": "stdout",
     "output_type": "stream",
     "text": [
      "No. of Days Book has been retured in late:23\n",
      "Late return charges for greater than 10 days = Rs.5\n"
     ]
    }
   ],
   "source": [
    "# 16) program to accept the number of days the member is late to return the book and display the fine or the appropriate message.\n",
    "n=int(input(\"No. of Days Book has been retured in late:\"))\n",
    "if n<=5:\n",
    "    print(\"Late return charges for first 5 days = Rs.0.50\")\n",
    "elif n>6 and n<=10:\n",
    "    print(\"Late return Charge between 6-10 days = Rs.1\")\n",
    "elif n>10 and n<30:\n",
    "    print(\"Late return charges for greater than 10 days = Rs.5\")\n",
    "elif n>30:\n",
    "    print(\"Your Membership will be cancelled due to returning book  after 30 days late\")\n",
    "else:\n",
    "    print(\"You returned  the book on time\")"
   ]
  },
  {
   "cell_type": "code",
   "execution_count": 17,
   "id": "20ce1e7d",
   "metadata": {},
   "outputs": [
    {
     "name": "stdout",
     "output_type": "stream",
     "text": [
      "3.6\n",
      "Time taken by worker to complete the work :  3.6 hours\n",
      "Worker is ordered to improve speed\n"
     ]
    }
   ],
   "source": [
    "# 17) \n",
    "n=float(input())\n",
    "print(\"Time taken by worker to complete the work : \",n,\"hours\")\n",
    "if n>=2 and n<3:\n",
    "    print(\"Worker is Highly Efficient\")\n",
    "elif n>=3 and n<4:\n",
    "    print(\"Worker is ordered to improve speed\")\n",
    "elif n>=4 and n<=5:\n",
    "    print(\"Worker is given training to improve speed\")\n",
    "elif n>5:\n",
    "    print(\"The worker has to leave the company\")  \n",
    "else:\n",
    "    print(\"Outstanding Performance\")\n",
    "    "
   ]
  },
  {
   "cell_type": "code",
   "execution_count": null,
   "id": "1ac67b42",
   "metadata": {},
   "outputs": [],
   "source": []
  }
 ],
 "metadata": {
  "kernelspec": {
   "display_name": "Python 3 (ipykernel)",
   "language": "python",
   "name": "python3"
  },
  "language_info": {
   "codemirror_mode": {
    "name": "ipython",
    "version": 3
   },
   "file_extension": ".py",
   "mimetype": "text/x-python",
   "name": "python",
   "nbconvert_exporter": "python",
   "pygments_lexer": "ipython3",
   "version": "3.11.5"
  }
 },
 "nbformat": 4,
 "nbformat_minor": 5
}
